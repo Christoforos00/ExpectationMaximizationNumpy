{
 "cells": [
  {
   "cell_type": "code",
   "execution_count": 1,
   "metadata": {},
   "outputs": [],
   "source": [
    "import numpy as np\n",
    "from scipy import stats\n",
    "import matplotlib.pyplot as plt\n",
    "import imageio\n",
    "import sys"
   ]
  },
  {
   "cell_type": "code",
   "execution_count": 2,
   "metadata": {},
   "outputs": [],
   "source": [
    "class EM():\n",
    "    \n",
    "    def __init__(self, K):\n",
    "        self.K = K\n",
    "        \n",
    "    def fit(self, X):\n",
    "        K = self.K\n",
    "        M, S, P, mixtureMatrix = self.initializeMatrices(K)\n",
    "        tol = 0.0001\n",
    "        iters = 300\n",
    "        self.logLikelihoods = []\n",
    "        oldL = self.logLikelihood(mixtureMatrix )\n",
    "\n",
    "        for i in range(iters):\n",
    "            sys.stdout.write('\\r'+ \"K=\" + str(K) +\", iterations: \" + str(i))\n",
    "            Gamma = self.calc_Gamma(mixtureMatrix)\n",
    "            Nk = self.calc_Nk(Gamma)\n",
    "            M = self.calc_M(X, Gamma, Nk)\n",
    "            S = self.calc_S(X, Gamma, Nk , M)\n",
    "            P = self.calc_P(Nk,X.shape[0])\n",
    "            \n",
    "            mixtureMatrix = self.GaussianMixture(X, M, S, P)\n",
    "            L = self.logLikelihood(mixtureMatrix )\n",
    "            self.logLikelihoods.append(L)\n",
    "\n",
    "            if (L - oldL < 0):\n",
    "                print(\"\\nThere is a problem!\")\n",
    "                return\n",
    "            elif (L - oldL < tol ):\n",
    "                break\n",
    "                \n",
    "            oldL = L\n",
    "        \n",
    "        print(\"\\nSuccessful\")\n",
    "        self.Xpred = M[ Gamma.argmax(axis=1) ]\n",
    "        \n",
    "\n",
    "    def GaussianMixture(self, X, M, S, P ):\n",
    "        S = np.array([ np.eye(X.shape[1])*Sk for Sk in S])\n",
    "        mixture = np.zeros((X.shape[0], M.shape[0]))\n",
    "        for k in range(M.shape[0]):\n",
    "            mixture[:, k] = stats.multivariate_normal(M[k], S[k]).pdf(X)\n",
    "        return P.T * mixture        \n",
    "\n",
    "    def calc_Gamma(self, mixtureMatrix):  # returns an (N x K) array\n",
    "        Gamma = mixtureMatrix\n",
    "        Gamma = Gamma / np.sum(Gamma , axis=1).reshape(-1,1)\n",
    "        return Gamma\n",
    "\n",
    "    def calc_Nk(self, Gamma):            # returns an (1 x K) array\n",
    "        return np.sum(Gamma , axis=0).reshape(-1,1)\n",
    "\n",
    "    def calc_M(self, X, Gamma, Nk):       # returns an (K x D) array\n",
    "        return Gamma.T.dot(X) / Nk\n",
    "\n",
    "    def calc_S(self, X, Gamma, Nk, M):    # returns an (K x 1) array\n",
    "        S = np.ones((M.shape[0],1))\n",
    "        for k in range(M.shape[0]):\n",
    "            S[k] = np.sum(np.sum(Gamma[:, k].reshape((-1, 1))*np.square(X- M[k]), axis=1))\n",
    "\n",
    "        return np.array(S) /(X.shape[1] * Nk )\n",
    "\n",
    "    def calc_P(self, Nk, N):        # returns an (K x 1) array\n",
    "        return Nk/N\n",
    "\n",
    "    def initializeMatrices(self, K):\n",
    "        M = np.random.uniform(0,1,(K,X.shape[1]))\n",
    "        S = np.random.uniform(0, 1, (K,1))\n",
    "        P = np.ones((K,1)) * 1/K\n",
    "        mixtureMatrix = self.GaussianMixture(X, M, S, P)\n",
    "        return M, S, P, mixtureMatrix\n",
    "\n",
    "    def logLikelihood(self,  mixtureMatrix ):\n",
    "        return np.sum(np.log(np.sum(mixtureMatrix, axis=1)))\n",
    "\n",
    "    def reconstError(self, X ):\n",
    "        return np.linalg.norm( (X-self.Xpred)*255 ) / X.shape[0]\n",
    "\n",
    "    def savePredictedImage(self, shape):\n",
    "        Xpred = (self.Xpred*255).astype(np.uint8)\n",
    "        Xpred = Xpred.reshape(shape)\n",
    "        imageio.imwrite('images/im_K' + str(self.K) + '.jpg' ,Xpred )\n",
    "\n"
   ]
  },
  {
   "cell_type": "code",
   "execution_count": 3,
   "metadata": {},
   "outputs": [],
   "source": [
    "def runForAllK(Xtrue, shape):\n",
    "    for K in [1, 2, 4, 8, 16, 32, 64]:\n",
    "        em = EM(K)\n",
    "        em.fit(Xtrue)\n",
    "        em.savePredictedImage(shape)\n",
    "        print(\"Reconstruction error= \", em.reconstError(Xtrue) , \"\\n\")"
   ]
  },
  {
   "cell_type": "code",
   "execution_count": 4,
   "metadata": {},
   "outputs": [],
   "source": [
    "im = imageio.imread('images/im.jpg')       #read image\n",
    "shape = im.shape\n",
    "im = im.reshape((im.shape[0]*im.shape[1],3))\n",
    "X = im/255"
   ]
  },
  {
   "cell_type": "code",
   "execution_count": 5,
   "metadata": {},
   "outputs": [
    {
     "name": "stdout",
     "output_type": "stream",
     "text": [
      "K=3, iterations: 92\n",
      "Successful\n",
      "CPU times: user 25.8 s, sys: 1.83 s, total: 27.6 s\n",
      "Wall time: 12.7 s\n"
     ]
    }
   ],
   "source": [
    "%%time\n",
    "em = EM(3)         #test for K=3\n",
    "em.fit(X)\n",
    "em.savePredictedImage(shape)"
   ]
  },
  {
   "cell_type": "code",
   "execution_count": 6,
   "metadata": {},
   "outputs": [
    {
     "name": "stdout",
     "output_type": "stream",
     "text": [
      "Reconstuction error when K=3: 0.06908231052770722\n"
     ]
    },
    {
     "data": {
      "image/png": "[encoded data removed]",
      "text/plain": [
       "<Figure size 432x288 with 1 Axes>"
      ]
     },
     "metadata": {
      "needs_background": "light"
     },
     "output_type": "display_data"
    }
   ],
   "source": [
    "plt.plot( np.arange(len(em.logLikelihoods)),em.logLikelihoods )   #results for K=3\n",
    "plt.xlabel(\"Iterations\")\n",
    "plt.ylabel(\"Loglikelihood\")\n",
    "\n",
    "print(\"Reconstuction error when K=3:\", em.reconstError(X))"
   ]
  },
  {
   "cell_type": "code",
   "execution_count": 7,
   "metadata": {},
   "outputs": [
    {
     "name": "stdout",
     "output_type": "stream",
     "text": [
      "K=1, iterations: 1\n",
      "Successful\n",
      "Reconstruction error=  0.17303304487092772 \n",
      "\n",
      "K=2, iterations: 23\n",
      "Successful\n",
      "Reconstruction error=  0.09147208159975455 \n",
      "\n",
      "K=4, iterations: 170\n",
      "Successful\n",
      "Reconstruction error=  0.05366774386694557 \n",
      "\n",
      "K=8, iterations: 254\n",
      "Successful\n",
      "Reconstruction error=  0.034094456472887794 \n",
      "\n",
      "K=16, iterations: 299\n",
      "Successful\n",
      "Reconstruction error=  0.02532530225338679 \n",
      "\n",
      "K=32, iterations: 299\n",
      "Successful\n",
      "Reconstruction error=  0.01849692361605513 \n",
      "\n",
      "K=64, iterations: 299\n",
      "Successful\n",
      "Reconstruction error=  0.012538111156193042 \n",
      "\n",
      "CPU times: user 49min 21s, sys: 2min 4s, total: 51min 25s\n",
      "Wall time: 25min 39s\n"
     ]
    }
   ],
   "source": [
    "%%time\n",
    "runForAllK(X,shape)   #takes 25 minutes"
   ]
  },
  {
   "cell_type": "code",
   "execution_count": null,
   "metadata": {},
   "outputs": [],
   "source": []
  }
 ],
 "metadata": {
  "kernelspec": {
   "display_name": "Python 3",
   "language": "python",
   "name": "python3"
  },
  "language_info": {
   "codemirror_mode": {
    "name": "ipython",
    "version": 3
   },
   "file_extension": ".py",
   "mimetype": "text/x-python",
   "name": "python",
   "nbconvert_exporter": "python",
   "pygments_lexer": "ipython3",
   "version": "3.8.3"
  }
 },
 "nbformat": 4,
 "nbformat_minor": 4
}
