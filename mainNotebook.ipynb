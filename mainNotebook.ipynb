{
 "cells": [
  {
   "cell_type": "code",
   "execution_count": 1,
   "metadata": {},
   "outputs": [],
   "source": [
    "import numpy as np\n",
    "from scipy import stats\n",
    "import matplotlib.pyplot as plt\n",
    "from sklearn.mixture import GaussianMixture\n",
    "import imageio"
   ]
  },
  {
   "cell_type": "code",
   "execution_count": 12,
   "metadata": {},
   "outputs": [],
   "source": [
    "X =  np.array([[-4.5,0],[-9,0],[-1,0],[0,1],[2,1],[4,0],[5,1]])\n",
    "S = np.array([[1],[0.2],[3]])\n",
    "M =  np.array([[-4,0],[0,0],[8,0]])\n",
    "P = np.array([[1/3],[1/3],[1/3]])\n"
   ]
  },
  {
   "cell_type": "code",
   "execution_count": 4,
   "metadata": {},
   "outputs": [],
   "source": [
    "X =  np.array([[-3],[-2.5],[-1],[0],[2],[4],[5]])\n",
    "S = np.array([[1],[0.2],[3]])\n",
    "M =  np.array([[-4],[0],[8]])\n",
    "P = np.array([[1/3],[1/3],[1/3]])"
   ]
  },
  {
   "cell_type": "code",
   "execution_count": 14,
   "metadata": {},
   "outputs": [],
   "source": [
    "X =  np.array([[-3],[-2.5],[-1],[0],[2],[4],[5]])\n",
    "S = np.array([[1],[0.2],[3]])\n",
    "M =  np.array([[-4],[0],[8]])\n",
    "P = np.array([[1/3],[1/3],[1/3]])"
   ]
  },
  {
   "cell_type": "code",
   "execution_count": null,
   "metadata": {},
   "outputs": [],
   "source": []
  },
  {
   "cell_type": "code",
   "execution_count": 90,
   "metadata": {},
   "outputs": [],
   "source": [
    "class EM():\n",
    "    \n",
    "    def __init__(self, K):\n",
    "        self.K = K\n",
    "    \n",
    "    def GaussianMixture(self, X, M, S, P , Id ):\n",
    "        if Id==0:\n",
    "            S = np.sqrt(S)\n",
    "            G = []\n",
    "            for Xn in X:\n",
    "                G.append([stats.norm(Mk,Sk).pdf(Xn) for Mk,Sk in zip(M,S)] )\n",
    "            G = np.array(G)[:,:,0]\n",
    "            return P.T * G\n",
    "        if Id==1:\n",
    "            S = np.sqrt(S)\n",
    "            G = []\n",
    "            for Xn in X:\n",
    "                g = []\n",
    "                for k in range(M.shape[0]):\n",
    "                    g.append( stats.norm(M[k],S[k]).pdf(Xn)  )\n",
    "                G.append(g)\n",
    "            G = np.array(G)[:,:,0]\n",
    "            return P.T * G\n",
    "        if Id==2:\n",
    "            G = np.zeros((X.shape[0], M.shape[0]))\n",
    "            for k in range(M.shape[0]):\n",
    "                first_part = 1 / np.sqrt(2 * np.pi * S[k])\n",
    "                second_part = np.exp(-(1 / (2 * S[k])) * (X - M[k, :]) ** 2)\n",
    "                G[:, k] = np.prod(first_part * second_part, axis=1)\n",
    "            return P.T * G\n",
    "        if Id==3:\n",
    "            S = np.array([ np.eye(X.shape[1])*Sk for Sk in S])\n",
    "            G = np.zeros((X.shape[0], M.shape[0]))\n",
    "            for k in range(M.shape[0]):\n",
    "                G[:, k] = stats.multivariate_normal(M[k], S[k]).pdf(X)\n",
    "            return P.T * G        \n",
    "\n",
    "    def calc_G(self, gaussianMixture ):  # returns an (N x K) array\n",
    "        G = gaussianMixture\n",
    "        G = G / np.sum(G , axis=1).reshape(-1,1)\n",
    "        return G\n",
    "\n",
    "    def calc_Nk(self, G):   # returns an (1 x K) array\n",
    "        return np.sum(G , axis=0).reshape(-1,1)\n",
    "\n",
    "    def calc_Nk2(self, G):   # returns an (1 x K) array\n",
    "        N = []\n",
    "        for k in range(G.shape[1]):\n",
    "            nk = 0\n",
    "            for n in range(G.shape[0]):\n",
    "                nk += G[n][k]\n",
    "            N.append(nk)\n",
    "        return np.array(N).reshape(-1,1)\n",
    "\n",
    "    def calc_M(self, X, G, Nk): # returns an (K x D) array\n",
    "        return G.T.dot(X) / Nk\n",
    "\n",
    "    def calc_M2(self, X, G, Nk): # returns an (K x D) array\n",
    "        M = []\n",
    "        for k in range(G.shape[1]):\n",
    "            row = 0\n",
    "            for n in range(X.shape[0]):\n",
    "                row += G[n][k] * X[n]\n",
    "            M.append(row)\n",
    "\n",
    "        return np.array(M)/Nk\n",
    "\n",
    "\n",
    "    def calc_S2(self, X, G, Nk, M):\n",
    "        S = []\n",
    "        for k in range(M.shape[0]):\n",
    "            row = 0\n",
    "            for n in range(X.shape[0]):\n",
    "                for d in range(X.shape[1]):\n",
    "                    row += G[n][k]*np.square(X[n][d]- M[k][d])\n",
    "            S.append(row)\n",
    "        return np.array(S).reshape(-1,1) /(X.shape[1] * Nk )\n",
    "\n",
    "    def calc_S(self, X, G, Nk, M):\n",
    "        S = np.ones((M.shape[0],1))\n",
    "        for k in range(M.shape[0]):\n",
    "            S[k] = np.sum(np.sum(G[:, k].reshape((-1, 1))*np.square(X- M[k]), axis=1))\n",
    "\n",
    "        return np.array(S) /(X.shape[1] * Nk )\n",
    "\n",
    "\n",
    "    def calc_P(self, Nk, N):\n",
    "        return Nk/N\n",
    "\n",
    "    def initializeMatrices(self, K):\n",
    "        M = np.random.uniform(0,1,(K,X.shape[1]))\n",
    "        S = np.random.uniform(0, 1, (K,1))\n",
    "        P = np.ones((K,1)) * 1/K\n",
    "        gaussianMixture = GaussianMixture(X, M, S, P,3)\n",
    "        return M, S, P, gaussianMixture\n",
    "\n",
    "    def logLikelihood(self,  mixtureMatrix ):\n",
    "        return np.sum(np.log(np.sum(mixtureMatrix, axis=1)))\n",
    "\n",
    "    def getPredictedValues(self):\n",
    "        return self.M[ self.Gamma.argmax(axis=1) ]\n",
    "\n",
    "    def getError(self, X ):\n",
    "        return np.square( np.sum(X-self.Xpred)/X.shape[0] )\n",
    "\n",
    "    def savePredictedImage(self, shape):\n",
    "        Xpred = (self.Xpred*255).astype(np.uint8)\n",
    "        Xpred = Xpred.reshape(shape)\n",
    "        imageio.imwrite('images\\im_K' + str(self.K) + '.jpg' ,Xpred )\n",
    "\n",
    "\n",
    "    def fit(self, X):\n",
    "        K = self.K\n",
    "        M, S, P, gaussianMixture = initializeMatrices(K)\n",
    "        tol = 1\n",
    "        iters = 200\n",
    "        self.logLikelihoods = []\n",
    "        oldL = logLikelihood(gaussianMixture )\n",
    "\n",
    "        for i in range(iters):\n",
    "            if (i%10==0):\n",
    "                print(\"Iteration:\", i)\n",
    "            Gamma = calc_G(gaussianMixture)\n",
    "            Nk = self.calc_Nk(Gamma)\n",
    "            M = self.calc_M(X, Gamma, Nk)\n",
    "            S = self.calc_S(X, Gamma, Nk , M)\n",
    "            P = self.calc_P(Nk,X.shape[0])\n",
    "            gaussianMixture = self.GaussianMixture(X, M, S, P,3)\n",
    "            L = self.logLikelihood(gaussianMixture )\n",
    "            self.logLikelihoods.append(L)\n",
    "\n",
    "            if (L-oldL<tol ):\n",
    "                print(\"Successful\")\n",
    "                break\n",
    "            elif (L < oldL):\n",
    "                print(\"There is a problem!\")\n",
    "                break\n",
    "            oldL = L\n",
    "        \n",
    "        self.Gamma = Gamma\n",
    "        self.M = M\n",
    "        self.Xpred = self.getPredictedValues()\n",
    "        "
   ]
  },
  {
   "cell_type": "code",
   "execution_count": 91,
   "metadata": {},
   "outputs": [],
   "source": [
    "im = imageio.imread('images\\im.jpg')\n",
    "shape = im.shape\n",
    "im = im.reshape((im.shape[0]*im.shape[1],3))\n",
    "X = im/255"
   ]
  },
  {
   "cell_type": "code",
   "execution_count": 109,
   "metadata": {},
   "outputs": [
    {
     "name": "stdout",
     "output_type": "stream",
     "text": [
      "0\n",
      "10\n",
      "20\n",
      "30\n",
      "40\n",
      "50\n",
      "60\n",
      "70\n",
      "80\n",
      "90\n",
      "100\n",
      "110\n",
      "120\n",
      "130\n",
      "140\n",
      "Successful\n",
      "CPU times: user 1min 56s, sys: 3.07 s, total: 1min 59s\n",
      "Wall time: 1min 1s\n"
     ]
    }
   ],
   "source": [
    "%%time\n",
    "em = EM(10)\n",
    "em.fit(X)\n",
    "em.savePredictedImage(shape)\n"
   ]
  },
  {
   "cell_type": "code",
   "execution_count": 115,
   "metadata": {},
   "outputs": [
    {
     "data": {
      "text/plain": [
       "Text(0, 0.5, 'Log-likelihood')"
      ]
     },
     "execution_count": 115,
     "metadata": {},
     "output_type": "execute_result"
    },
    {
     "data": {
      "image/png": "[encoded data removed]",
      "text/plain": [
       "<Figure size 432x288 with 1 Axes>"
      ]
     },
     "metadata": {
      "needs_background": "light"
     },
     "output_type": "display_data"
    }
   ],
   "source": [
    "plt.plot( np.arange(len(em.logLikelihoods)),em.logLikelihoods )\n",
    "plt.xlabel(\"Iterations\")\n",
    "plt.ylabel(\"Log-likelihood\")"
   ]
  },
  {
   "cell_type": "code",
   "execution_count": null,
   "metadata": {},
   "outputs": [],
   "source": []
  }
 ],
 "metadata": {
  "kernelspec": {
   "display_name": "Python 3",
   "language": "python",
   "name": "python3"
  },
  "language_info": {
   "codemirror_mode": {
    "name": "ipython",
    "version": 3
   },
   "file_extension": ".py",
   "mimetype": "text/x-python",
   "name": "python",
   "nbconvert_exporter": "python",
   "pygments_lexer": "ipython3",
   "version": "3.8.3"
  }
 },
 "nbformat": 4,
 "nbformat_minor": 4
}
