{
 "cells": [
  {
   "cell_type": "code",
   "execution_count": 585,
   "metadata": {},
   "outputs": [],
   "source": [
    "import numpy as np\n",
    "from scipy import stats\n",
    "import matplotlib.pyplot as plt\n",
    "from sklearn.mixture import GaussianMixture"
   ]
  },
  {
   "cell_type": "code",
   "execution_count": 4,
   "metadata": {},
   "outputs": [],
   "source": [
    "#initialization"
   ]
  },
  {
   "cell_type": "code",
   "execution_count": 925,
   "metadata": {},
   "outputs": [
    {
     "data": {
      "text/plain": [
       "(3, 1)"
      ]
     },
     "execution_count": 925,
     "metadata": {},
     "output_type": "execute_result"
    }
   ],
   "source": [
    "X =  np.array([[-4,0],[-7,0],[-1,0],[0,1],[2,1],[4,0],[5,1]])\n",
    "S = np.array([[1],[0.2],[3]])\n",
    "M =  np.array([[-4,0],[0,0],[8,0]])\n",
    "P = np.array([[1/3],[1/3],[1/3]])\n",
    "S.shape"
   ]
  },
  {
   "cell_type": "code",
   "execution_count": 908,
   "metadata": {},
   "outputs": [],
   "source": [
    "X =  np.array([[-3],[-2.5],[-1],[0],[2],[4],[5]])\n",
    "S = np.array([[1],[0.2],[3]])\n",
    "M =  np.array([[-4],[0],[8]])\n",
    "P = np.array([[1/3],[1/3],[1/3]])"
   ]
  },
  {
   "cell_type": "code",
   "execution_count": 920,
   "metadata": {},
   "outputs": [],
   "source": [
    "X =  np.array([[-3],[-2.5],[-1],[0],[2],[4],[5]])\n",
    "S = np.array([[1],[0.2],[3]])\n",
    "M =  np.array([[-4],[0],[8]])\n",
    "P = np.array([[1/3],[1/3],[1/3]])"
   ]
  },
  {
   "cell_type": "code",
   "execution_count": 912,
   "metadata": {},
   "outputs": [
    {
     "ename": "ValueError",
     "evalue": "cannot reshape array of size 3 into shape (3,2,2)",
     "output_type": "error",
     "traceback": [
      "\u001b[0;31m---------------------------------------------------------------------------\u001b[0m",
      "\u001b[0;31mValueError\u001b[0m                                Traceback (most recent call last)",
      "\u001b[0;32m<ipython-input-912-2b7071c1e76f>\u001b[0m in \u001b[0;36m<module>\u001b[0;34m\u001b[0m\n\u001b[0;32m----> 1\u001b[0;31m \u001b[0ma\u001b[0m \u001b[0;34m=\u001b[0m \u001b[0mcalc_G3\u001b[0m\u001b[0;34m(\u001b[0m\u001b[0mX\u001b[0m\u001b[0;34m,\u001b[0m \u001b[0mM\u001b[0m\u001b[0;34m,\u001b[0m \u001b[0mS\u001b[0m\u001b[0;34m.\u001b[0m\u001b[0mreshape\u001b[0m\u001b[0;34m(\u001b[0m\u001b[0;34m(\u001b[0m\u001b[0mM\u001b[0m\u001b[0;34m.\u001b[0m\u001b[0mshape\u001b[0m\u001b[0;34m[\u001b[0m\u001b[0;36m0\u001b[0m\u001b[0;34m]\u001b[0m\u001b[0;34m,\u001b[0m\u001b[0mX\u001b[0m\u001b[0;34m.\u001b[0m\u001b[0mshape\u001b[0m\u001b[0;34m[\u001b[0m\u001b[0;36m1\u001b[0m\u001b[0;34m]\u001b[0m\u001b[0;34m,\u001b[0m\u001b[0mX\u001b[0m\u001b[0;34m.\u001b[0m\u001b[0mshape\u001b[0m\u001b[0;34m[\u001b[0m\u001b[0;36m1\u001b[0m\u001b[0;34m]\u001b[0m\u001b[0;34m)\u001b[0m \u001b[0;34m)\u001b[0m\u001b[0;34m,\u001b[0m \u001b[0mP\u001b[0m\u001b[0;34m)\u001b[0m\u001b[0;34m\u001b[0m\u001b[0;34m\u001b[0m\u001b[0m\n\u001b[0m\u001b[1;32m      2\u001b[0m \u001b[0ma\u001b[0m\u001b[0;34m\u001b[0m\u001b[0;34m\u001b[0m\u001b[0m\n",
      "\u001b[0;31mValueError\u001b[0m: cannot reshape array of size 3 into shape (3,2,2)"
     ]
    }
   ],
   "source": [
    "a = calc_G3(X, M, S.reshape((M.shape[0],X.shape[1],X.shape[1]) ), P)\n",
    "a"
   ]
  },
  {
   "cell_type": "code",
   "execution_count": 926,
   "metadata": {},
   "outputs": [
    {
     "data": {
      "text/plain": [
       "array([[1.00000000e+00, 2.12417713e-17, 1.25837818e-11],\n",
       "       [1.00000000e+00, 2.83283409e-51, 1.55296205e-15],\n",
       "       [2.63537099e-02, 9.73645206e-01, 1.08410206e-06],\n",
       "       [4.95496852e-04, 9.99488487e-01, 1.60164349e-05],\n",
       "       [1.28646572e-05, 2.59498657e-02, 9.74037270e-01],\n",
       "       [5.46784824e-13, 9.17129370e-16, 1.00000000e+00],\n",
       "       [2.48239926e-17, 4.68569560e-27, 1.00000000e+00]])"
      ]
     },
     "execution_count": 926,
     "metadata": {},
     "output_type": "execute_result"
    }
   ],
   "source": [
    "b = calc_G2(X, M, S, P)\n",
    "b"
   ]
  },
  {
   "cell_type": "code",
   "execution_count": 927,
   "metadata": {},
   "outputs": [
    {
     "data": {
      "text/plain": [
       "array([[1.00000000e+00, 9.49960891e-18, 2.17957495e-11],\n",
       "       [1.00000000e+00, 1.26688192e-51, 2.68980917e-15],\n",
       "       [5.70694724e-02, 9.42926461e-01, 4.06623892e-06],\n",
       "       [1.50000042e-04, 9.99843983e-01, 6.01744506e-06],\n",
       "       [9.93708362e-06, 6.62368700e-02, 9.33753193e-01],\n",
       "       [3.15686365e-13, 2.36801785e-16, 1.00000000e+00],\n",
       "       [2.00021110e-17, 1.24761973e-26, 1.00000000e+00]])"
      ]
     },
     "execution_count": 927,
     "metadata": {},
     "output_type": "execute_result"
    }
   ],
   "source": [
    "c = calc_G(X, M,  np.sqrt(S) , P)\n",
    "c"
   ]
  },
  {
   "cell_type": "code",
   "execution_count": 877,
   "metadata": {},
   "outputs": [],
   "source": [
    "def calc_G(X, M, S, P):  # returns an (N x K) array\n",
    "    G = []\n",
    "    for Xn in X:\n",
    "        G.append([stats.norm(Mk,Sk).pdf(Xn) for Mk,Sk in zip(M,S)] )\n",
    "    G = P.T * np.array(G)[:,:,0]\n",
    "    G = G / np.sum(G , axis=1).reshape(-1,1)\n",
    "    return G\n",
    "\n",
    "\n",
    "def calc_G1(X, M, S, P):  # returns an (N x K) array\n",
    "    G = []\n",
    "    for Xn in X:\n",
    "        g = []\n",
    "        for k in range(M.shape[0]):\n",
    "            g.append( stats.norm(M[k],S[k]).pdf(Xn)  )\n",
    "        G.append(g)\n",
    "    G = P.T * np.array(G)[:,:,0]\n",
    "    G = G / np.sum(G , axis=1).reshape(-1,1)\n",
    "    return G\n",
    "\n",
    "def calc_G2(X, M, S, P):  # returns an (N x K) array\n",
    "    G = np.zeros((X.shape[0], M.shape[0]))\n",
    "    for k in range(M.shape[0]):\n",
    "        first_part = 1 / np.sqrt(2 * np.pi * S[k])\n",
    "        second_part = np.exp(-(1 / (2 * S[k])) * (X - M[k, :]) ** 2)\n",
    "        G[:, k] = np.prod(first_part * second_part, axis=1)\n",
    "    G = P.T * G\n",
    "    G = G / np.sum(G , axis=1).reshape(-1,1)\n",
    "    return G\n",
    "\n",
    "def calc_G3(X, M, S, P):  # returns an (N x K) array\n",
    "    G = np.zeros((X.shape[0], M.shape[0]))\n",
    "    for k in range(M.shape[0]):\n",
    "        prior = P[k]\n",
    "        likelihood = stats.multivariate_normal(M[k], S[k]).pdf(X)\n",
    "        G[:, k] = prior * likelihood\n",
    "        \n",
    "    G = G / np.sum(G , axis=1).reshape(-1,1)\n",
    "    return G\n",
    "\n",
    "\n",
    "def calc_Nk(G):   # returns an (1 x K) array\n",
    "    return np.sum(G , axis=0).reshape(-1,1)\n",
    "\n",
    "def calc_Nk2(G):   # returns an (1 x K) array\n",
    "    N = []\n",
    "    for k in range(G.shape[1]):\n",
    "        nk = 0\n",
    "        for n in range(G.shape[0]):\n",
    "            nk += G[n][k]\n",
    "        N.append(nk)\n",
    "    return np.array(N).reshape(-1,1)\n",
    "    \n",
    "def calc_M(X, G, Nk): # returns an (K x D) array\n",
    "    return G.T.dot(X) / Nk\n",
    "\n",
    "def calc_M2(X, G, Nk): # returns an (K x D) array\n",
    "    M = []\n",
    "    for k in range(G.shape[1]):\n",
    "        row = 0\n",
    "        for n in range(X.shape[0]):\n",
    "            row += G[n][k] * X[n]\n",
    "        M.append(row)\n",
    "    \n",
    "    return np.array(M)/Nk\n",
    "            \n",
    "\n",
    "def calc_S(X, G, Nk, M):\n",
    "    S = []\n",
    "    for k in range(M.shape[0]):\n",
    "        row = 0\n",
    "        for n in range(X.shape[0]):\n",
    "            for d in range(X.shape[1]):\n",
    "                row += G[n][k]*np.square(X[n][d]- M[k][d])\n",
    "        S.append(row)\n",
    "    return np.array(S).reshape(-1,1) /(X.shape[1] * np.sum(Nk) )"
   ]
  },
  {
   "cell_type": "code",
   "execution_count": 883,
   "metadata": {},
   "outputs": [
    {
     "data": {
      "text/plain": [
       "array([[0.04232009],\n",
       "       [0.12584779],\n",
       "       [0.6398094 ]])"
      ]
     },
     "execution_count": 883,
     "metadata": {},
     "output_type": "execute_result"
    }
   ],
   "source": [
    "g = calc_G(X, M, S, P)\n",
    "nk =calc_Nk(g)\n",
    "m = calc_M(X, g, nk)\n",
    "calc_S(X, g , nk , m)"
   ]
  },
  {
   "cell_type": "code",
   "execution_count": 879,
   "metadata": {},
   "outputs": [
    {
     "data": {
      "text/plain": [
       "array([[0.40204494],\n",
       "       [0.09866386],\n",
       "       [0.36698623]])"
      ]
     },
     "execution_count": 879,
     "metadata": {},
     "output_type": "execute_result"
    }
   ],
   "source": [
    "g = calc_G(X, M, S, P)\n",
    "nk =calc_Nk2(g)\n",
    "m = calc_M2(X, g, nk)\n",
    "calc_S(X, g , nk , m)"
   ]
  },
  {
   "cell_type": "code",
   "execution_count": 874,
   "metadata": {},
   "outputs": [],
   "source": [
    "while True:\n",
    "\n",
    "    \n",
    "    break"
   ]
  },
  {
   "cell_type": "code",
   "execution_count": null,
   "metadata": {},
   "outputs": [],
   "source": []
  }
 ],
 "metadata": {
  "kernelspec": {
   "display_name": "Python 3",
   "language": "python",
   "name": "python3"
  },
  "language_info": {
   "codemirror_mode": {
    "name": "ipython",
    "version": 3
   },
   "file_extension": ".py",
   "mimetype": "text/x-python",
   "name": "python",
   "nbconvert_exporter": "python",
   "pygments_lexer": "ipython3",
   "version": "3.8.3"
  }
 },
 "nbformat": 4,
 "nbformat_minor": 4
}
