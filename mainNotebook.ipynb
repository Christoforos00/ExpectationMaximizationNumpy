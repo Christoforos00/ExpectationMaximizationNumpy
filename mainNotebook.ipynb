{
 "cells": [
  {
   "cell_type": "code",
   "execution_count": 5,
   "metadata": {},
   "outputs": [],
   "source": [
    "import numpy as np\n",
    "from scipy import stats"
   ]
  },
  {
   "cell_type": "code",
   "execution_count": 6,
   "metadata": {},
   "outputs": [],
   "source": [
    "#initialization"
   ]
  },
  {
   "cell_type": "code",
   "execution_count": 7,
   "metadata": {},
   "outputs": [],
   "source": [
    "X =  np.array([[-3,0],[-2.5,0],[-1,0],[0,1],[2,1],[4,0],[5,1]])\n",
    "S = np.array([[1,1],[0.2,0],[3,0]])\n",
    "S = np.sqrt(S)\n",
    "M =  np.array([[-4,0],[0,0],[8,0]])\n",
    "P = np.array([[1/3,1/3,1/3]])"
   ]
  },
  {
   "cell_type": "code",
   "execution_count": 68,
   "metadata": {},
   "outputs": [],
   "source": [
    "X =  np.array([[-3],[-2.5],[-1],[0],[2],[4],[5]])\n",
    "S = np.array([[1],[0.2],[3]])\n",
    "S = np.sqrt(S)\n",
    "M =  np.array([[-4],[0],[8]])\n",
    "P = np.array([[1/3,1/3,1/3]])"
   ]
  },
  {
   "cell_type": "code",
   "execution_count": 282,
   "metadata": {},
   "outputs": [],
   "source": [
    "def calc_G(X, M, S):  # returns an (N x K) array\n",
    "    G = []\n",
    "    for Xn in X[:]:\n",
    "        G.append([stats.norm(Mk,Sk).pdf(Xn) for Mk,Sk in zip(M,S)] )\n",
    "        \n",
    "    G = P * np.array(G)[:,:,0]\n",
    "    G = G / np.sum(G , axis=1).reshape(-1,1)\n",
    "    return G\n",
    "\n",
    "def calc_Nk(G):   # returns an (1 x K) array\n",
    "    return np.sum(G , axis=0).reshape(-1,1)\n",
    "    \n",
    "def calc_M(X, G, Nk): # returns an (K x D) array\n",
    "    return G.T.dot(X) / Nk\n",
    "\n",
    "def calc_S(X, G, Nk, M):\n",
    "    diff = X - M.T\n",
    "    print(diff.shape)\n",
    "    print(G.shape)\n",
    "    return G.T.dot(diff)\n"
   ]
  },
  {
   "cell_type": "code",
   "execution_count": 283,
   "metadata": {},
   "outputs": [
    {
     "data": {
      "text/plain": [
       "array([[-1. , -1.5, -3. , -4. , -6. , -8. , -9. ],\n",
       "       [ 3. ,  2.5,  1. ,  0. , -2. , -4. , -5. ],\n",
       "       [11. , 10.5,  9. ,  8. ,  6. ,  4. ,  3. ]])"
      ]
     },
     "execution_count": 283,
     "metadata": {},
     "output_type": "execute_result"
    }
   ],
   "source": [
    "M - X.T"
   ]
  },
  {
   "cell_type": "code",
   "execution_count": 284,
   "metadata": {},
   "outputs": [
    {
     "name": "stdout",
     "output_type": "stream",
     "text": [
      "(7, 3)\n",
      "(7, 3)\n"
     ]
    }
   ],
   "source": [
    "g = calc_G(X, M, S)\n",
    "nk =calc_Nk(g)\n",
    "m = calc_M(X, g, nk)\n",
    "s = calc_S(X, g , nk , m)"
   ]
  },
  {
   "cell_type": "code",
   "execution_count": 285,
   "metadata": {},
   "outputs": [
    {
     "data": {
      "text/plain": [
       "array([[-2.70123001],\n",
       "       [-0.40341072],\n",
       "       [ 3.70428735]])"
      ]
     },
     "execution_count": 285,
     "metadata": {},
     "output_type": "execute_result"
    }
   ],
   "source": [
    "calc_M(X, g, nk)"
   ]
  },
  {
   "cell_type": "code",
   "execution_count": 293,
   "metadata": {},
   "outputs": [],
   "source": [
    "m = np.array([[1],[1],[2]])"
   ]
  },
  {
   "cell_type": "code",
   "execution_count": 294,
   "metadata": {},
   "outputs": [
    {
     "data": {
      "text/plain": [
       "array([[-3. ],\n",
       "       [-2.5],\n",
       "       [-1. ],\n",
       "       [ 0. ],\n",
       "       [ 2. ],\n",
       "       [ 4. ],\n",
       "       [ 5. ]])"
      ]
     },
     "execution_count": 294,
     "metadata": {},
     "output_type": "execute_result"
    }
   ],
   "source": [
    "X"
   ]
  },
  {
   "cell_type": "code",
   "execution_count": 297,
   "metadata": {},
   "outputs": [
    {
     "data": {
      "text/plain": [
       "array([[ 4. ,  3.5,  2. ,  1. , -1. , -3. , -4. ],\n",
       "       [ 4. ,  3.5,  2. ,  1. , -1. , -3. , -4. ],\n",
       "       [ 5. ,  4.5,  3. ,  2. ,  0. , -2. , -3. ]])"
      ]
     },
     "execution_count": 297,
     "metadata": {},
     "output_type": "execute_result"
    }
   ],
   "source": [
    "m - X.T"
   ]
  },
  {
   "cell_type": "code",
   "execution_count": 271,
   "metadata": {},
   "outputs": [
    {
     "data": {
      "text/plain": [
       "(3, 3)"
      ]
     },
     "execution_count": 271,
     "metadata": {},
     "output_type": "execute_result"
    }
   ],
   "source": [
    "s.shape"
   ]
  },
  {
   "cell_type": "code",
   "execution_count": null,
   "metadata": {},
   "outputs": [],
   "source": [
    "\n",
    "    \n"
   ]
  },
  {
   "cell_type": "code",
   "execution_count": null,
   "metadata": {},
   "outputs": [],
   "source": [
    "while True:\n",
    "    G = P @ stats.norm(M,S).pdf(X)\n",
    "    G = G / np.sum(G , axis=0)\n",
    "    Nk = np.sum(G , axis=1)\n",
    "    \n",
    "    break"
   ]
  }
 ],
 "metadata": {
  "kernelspec": {
   "display_name": "Python 3",
   "language": "python",
   "name": "python3"
  },
  "language_info": {
   "codemirror_mode": {
    "name": "ipython",
    "version": 3
   },
   "file_extension": ".py",
   "mimetype": "text/x-python",
   "name": "python",
   "nbconvert_exporter": "python",
   "pygments_lexer": "ipython3",
   "version": "3.8.3"
  }
 },
 "nbformat": 4,
 "nbformat_minor": 4
}
