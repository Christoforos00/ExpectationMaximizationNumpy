{
 "cells": [
  {
   "cell_type": "code",
   "execution_count": 1,
   "metadata": {},
   "outputs": [],
   "source": [
    "import numpy as np\n",
    "from scipy import stats\n",
    "import matplotlib.pyplot as plt\n",
    "from sklearn.mixture import GaussianMixture\n",
    "import imageio"
   ]
  },
  {
   "cell_type": "code",
   "execution_count": 2,
   "metadata": {},
   "outputs": [],
   "source": [
    "#initialization"
   ]
  },
  {
   "cell_type": "code",
   "execution_count": 12,
   "metadata": {},
   "outputs": [],
   "source": [
    "X =  np.array([[-4.5,0],[-9,0],[-1,0],[0,1],[2,1],[4,0],[5,1]])\n",
    "S = np.array([[1],[0.2],[3]])\n",
    "M =  np.array([[-4,0],[0,0],[8,0]])\n",
    "P = np.array([[1/3],[1/3],[1/3]])\n"
   ]
  },
  {
   "cell_type": "code",
   "execution_count": 4,
   "metadata": {},
   "outputs": [],
   "source": [
    "X =  np.array([[-3],[-2.5],[-1],[0],[2],[4],[5]])\n",
    "S = np.array([[1],[0.2],[3]])\n",
    "M =  np.array([[-4],[0],[8]])\n",
    "P = np.array([[1/3],[1/3],[1/3]])"
   ]
  },
  {
   "cell_type": "code",
   "execution_count": 14,
   "metadata": {},
   "outputs": [],
   "source": [
    "X =  np.array([[-3],[-2.5],[-1],[0],[2],[4],[5]])\n",
    "S = np.array([[1],[0.2],[3]])\n",
    "M =  np.array([[-4],[0],[8]])\n",
    "P = np.array([[1/3],[1/3],[1/3]])"
   ]
  },
  {
   "cell_type": "code",
   "execution_count": null,
   "metadata": {},
   "outputs": [],
   "source": []
  },
  {
   "cell_type": "code",
   "execution_count": 5,
   "metadata": {},
   "outputs": [],
   "source": [
    "def GaussianMixture(X, M, S, P , Id ):\n",
    "    if Id==0:\n",
    "        S = np.sqrt(S)\n",
    "        G = []\n",
    "        for Xn in X:\n",
    "            G.append([stats.norm(Mk,Sk).pdf(Xn) for Mk,Sk in zip(M,S)] )\n",
    "        G = np.array(G)[:,:,0]\n",
    "        return P.T * G\n",
    "    if Id==1:\n",
    "        S = np.sqrt(S)\n",
    "        G = []\n",
    "        for Xn in X:\n",
    "            g = []\n",
    "            for k in range(M.shape[0]):\n",
    "                g.append( stats.norm(M[k],S[k]).pdf(Xn)  )\n",
    "            G.append(g)\n",
    "        G = np.array(G)[:,:,0]\n",
    "        return P.T * G\n",
    "    if Id==2:\n",
    "        G = np.zeros((X.shape[0], M.shape[0]))\n",
    "        for k in range(M.shape[0]):\n",
    "            first_part = 1 / np.sqrt(2 * np.pi * S[k])\n",
    "            second_part = np.exp(-(1 / (2 * S[k])) * (X - M[k, :]) ** 2)\n",
    "            G[:, k] = np.prod(first_part * second_part, axis=1)\n",
    "        return P.T * G\n",
    "    if Id==3:\n",
    "        S = np.array([ np.eye(X.shape[1])*Sk for Sk in S])\n",
    "        G = np.zeros((X.shape[0], M.shape[0]))\n",
    "        for k in range(M.shape[0]):\n",
    "            G[:, k] = stats.multivariate_normal(M[k], S[k]).pdf(X)\n",
    "        return P.T * G        \n",
    "\n",
    "def calc_G( gaussianMixture ):  # returns an (N x K) array\n",
    "    G = gaussianMixture\n",
    "    G = G / np.sum(G , axis=1).reshape(-1,1)\n",
    "    return G\n",
    "\n",
    "def calc_Nk(G):   # returns an (1 x K) array\n",
    "    return np.sum(G , axis=0).reshape(-1,1)\n",
    "\n",
    "def calc_Nk2(G):   # returns an (1 x K) array\n",
    "    N = []\n",
    "    for k in range(G.shape[1]):\n",
    "        nk = 0\n",
    "        for n in range(G.shape[0]):\n",
    "            nk += G[n][k]\n",
    "        N.append(nk)\n",
    "    return np.array(N).reshape(-1,1)\n",
    "    \n",
    "def calc_M(X, G, Nk): # returns an (K x D) array\n",
    "    return G.T.dot(X) / Nk\n",
    "\n",
    "def calc_M2(X, G, Nk): # returns an (K x D) array\n",
    "    M = []\n",
    "    for k in range(G.shape[1]):\n",
    "        row = 0\n",
    "        for n in range(X.shape[0]):\n",
    "            row += G[n][k] * X[n]\n",
    "        M.append(row)\n",
    "    \n",
    "    return np.array(M)/Nk\n",
    "            \n",
    "\n",
    "def calc_S2(X, G, Nk, M):\n",
    "    S = []\n",
    "    for k in range(M.shape[0]):\n",
    "        row = 0\n",
    "        for n in range(X.shape[0]):\n",
    "            for d in range(X.shape[1]):\n",
    "                row += G[n][k]*np.square(X[n][d]- M[k][d])\n",
    "        S.append(row)\n",
    "    return np.array(S).reshape(-1,1) /(X.shape[1] * Nk )\n",
    "\n",
    "def calc_S(X, G, Nk, M):\n",
    "    S = np.ones((M.shape[0],1))\n",
    "    for k in range(M.shape[0]):\n",
    "        S[k] = np.sum(np.sum(G[:, k].reshape((-1, 1))*np.square(X- M[k]), axis=1))\n",
    "\n",
    "    return np.array(S) /(X.shape[1] * Nk )\n",
    "\n",
    "\n",
    "def calc_P(Nk, N):\n",
    "    return Nk/N\n",
    "    \n",
    "def logLikelihood( mixtureMatrix ):\n",
    "    return np.sum(np.log(np.sum(mixtureMatrix, axis=1)))\n",
    "\n",
    "def getPredictedValues(Gamma, M):\n",
    "    return M[ Gamma.argmax(axis=1) ]\n",
    "\n",
    "def getError(X , Xpred):\n",
    "    np.square( np.sum(X-Xpred)/X.shape[0] )\n",
    "\n",
    "def savePredictedImage(Xpred, shape, K):\n",
    "    Xpred = (Xpred*255).astype(np.uint8)\n",
    "    Xpred = Xpred.reshape(shape)\n",
    "    imageio.imwrite('im_K' + str(K) + '.jpg' ,Xpred )"
   ]
  },
  {
   "cell_type": "code",
   "execution_count": 33,
   "metadata": {},
   "outputs": [
    {
     "data": {
      "text/plain": [
       "array([[0.14399988],\n",
       "       [0.4384922 ],\n",
       "       [1.52659412]])"
      ]
     },
     "execution_count": 33,
     "metadata": {},
     "output_type": "execute_result"
    }
   ],
   "source": [
    "mix = GaussianMixture(X, M, S, P,2)\n",
    "g = calc_G(mix)\n",
    "nk = calc_Nk(g)\n",
    "m = calc_M(X, g, nk)\n",
    "calc_S(X, g , nk , m)"
   ]
  },
  {
   "cell_type": "code",
   "execution_count": 6,
   "metadata": {},
   "outputs": [],
   "source": [
    "im = imageio.imread('im.jpg')\n",
    "shape = im.shape\n",
    "im = im.reshape((im.shape[0]*im.shape[1],3))\n",
    "X = im/255"
   ]
  },
  {
   "cell_type": "code",
   "execution_count": null,
   "metadata": {},
   "outputs": [],
   "source": [
    "%%time\n",
    "\n",
    "K = 4\n",
    "M = np.random.uniform(0,1,(K,X.shape[1]))\n",
    "S = np.random.uniform(0, 1, (K,1))\n",
    "P = np.ones((K,1)) * 1/K\n",
    "gaussianMixture = GaussianMixture(X, M, S, P,1)\n",
    "iters = 30\n",
    "i = 0\n",
    "liks = []\n",
    "\n",
    "\n",
    "while True:\n",
    "    if (i%10==0):\n",
    "        print(i)\n",
    "    Gamma = calc_G(gaussianMixture)\n",
    "    Nk = calc_Nk(Gamma)\n",
    "    M = calc_M(X, Gamma, Nk)\n",
    "    S = calc_S(X, Gamma, Nk , M)\n",
    "    P = calc_P(Nk,X.shape[0])\n",
    "    gaussianMixture = GaussianMixture(X, M, S, P,1)\n",
    "    L = logLikelihood(gaussianMixture )\n",
    "    liks.append(L)\n",
    "    \n",
    "    if (i>iters):\n",
    "        break\n",
    "    \n",
    "    \n",
    "    i+=1"
   ]
  },
  {
   "cell_type": "code",
   "execution_count": 28,
   "metadata": {},
   "outputs": [
    {
     "data": {
      "text/plain": [
       "[<matplotlib.lines.Line2D at 0x7f3e2ef05130>]"
      ]
     },
     "execution_count": 28,
     "metadata": {},
     "output_type": "execute_result"
    },
    {
     "data": {
      "image/png": "[encoded data removed]",
      "text/plain": [
       "<Figure size 432x288 with 1 Axes>"
      ]
     },
     "metadata": {
      "needs_background": "light"
     },
     "output_type": "display_data"
    }
   ],
   "source": [
    "plt.plot( np.arange(len(liks)),liks )"
   ]
  },
  {
   "cell_type": "code",
   "execution_count": 26,
   "metadata": {},
   "outputs": [],
   "source": [
    "\n",
    "Xpred = getPredictedValues(Gamma, M)\n",
    "savePredictedImage(Xpred, shape, K)"
   ]
  },
  {
   "cell_type": "code",
   "execution_count": null,
   "metadata": {},
   "outputs": [],
   "source": []
  }
 ],
 "metadata": {
  "kernelspec": {
   "display_name": "Python 3",
   "language": "python",
   "name": "python3"
  },
  "language_info": {
   "codemirror_mode": {
    "name": "ipython",
    "version": 3
   },
   "file_extension": ".py",
   "mimetype": "text/x-python",
   "name": "python",
   "nbconvert_exporter": "python",
   "pygments_lexer": "ipython3",
   "version": "3.8.3"
  }
 },
 "nbformat": 4,
 "nbformat_minor": 4
}
